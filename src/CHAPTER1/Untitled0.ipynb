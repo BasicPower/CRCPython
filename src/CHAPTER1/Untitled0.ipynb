{
 "metadata": {
  "name": "",
  "signature": "sha256:f03f27a12da879201c045682c7881a3417bc1fef32e4fe9ef63c06a9c435832c"
 },
 "nbformat": 3,
 "nbformat_minor": 0,
 "worksheets": [
  {
   "cells": [
    {
     "cell_type": "code",
     "collapsed": false,
     "input": [
      "!dir"
     ],
     "language": "python",
     "metadata": {},
     "outputs": [
      {
       "output_type": "stream",
       "stream": "stdout",
       "text": [
        " Datentr\u201eger in Laufwerk D: ist work\n",
        " Volumeseriennummer: 293C-DAD5\n",
        "\n",
        " Verzeichnis von D:\\python\\CRC\\src\\CHAPTER1\n",
        "\n",
        "16.02.2015  14:53    <DIR>          .\n",
        "16.02.2015  14:53    <DIR>          ..\n",
        "16.02.2015  14:53    <DIR>          .ipynb_checkpoints\n",
        "11.04.2014  11:15             4.302 dispms.py\n",
        "20.01.2014  10:36             1.222 ex1_1.py\n",
        "12.07.2013  10:12             1.271 ex1_2.py\n",
        "08.06.2013  11:45             2.186 ex1_3.py\n",
        "07.06.2013  16:23             2.186 ex1_5.py\n",
        "16.02.2015  14:53               189 Untitled0.ipynb\n",
        "               6 Datei(en),         11.356 Bytes\n",
        "               3 Verzeichnis(se), 261.637.156.864 Bytes frei\n"
       ]
      }
     ],
     "prompt_number": 1
    },
    {
     "cell_type": "code",
     "collapsed": false,
     "input": [
      "run dispms"
     ],
     "language": "python",
     "metadata": {},
     "outputs": [
      {
       "output_type": "stream",
       "stream": "stdout",
       "text": [
        "close image to finish\n",
        "done"
       ]
      },
      {
       "output_type": "stream",
       "stream": "stdout",
       "text": [
        "\n"
       ]
      }
     ],
     "prompt_number": 2
    },
    {
     "cell_type": "code",
     "collapsed": false,
     "input": [
      "run ex1_5"
     ],
     "language": "python",
     "metadata": {},
     "outputs": [],
     "prompt_number": 3
    },
    {
     "cell_type": "code",
     "collapsed": false,
     "input": [
      "cd CHAPTER9"
     ],
     "language": "python",
     "metadata": {},
     "outputs": [
      {
       "output_type": "stream",
       "stream": "stdout",
       "text": [
        "D:\\python\\CRC\\src\\CHAPTER9\n"
       ]
      }
     ],
     "prompt_number": 14
    },
    {
     "cell_type": "code",
     "collapsed": false,
     "input": [
      "!dir"
     ],
     "language": "python",
     "metadata": {},
     "outputs": [
      {
       "output_type": "stream",
       "stream": "stdout",
       "text": [
        " Datentr\u201eger in Laufwerk D: ist work\n",
        " Volumeseriennummer: 293C-DAD5\n",
        "\n",
        " Verzeichnis von D:\\python\\CRC\\src\\CHAPTER9\n",
        "\n",
        "12.11.2014  16:10    <DIR>          .\n",
        "12.11.2014  16:10    <DIR>          ..\n",
        "31.07.2014  12:30             7.774 iMad.py\n",
        "08.06.2013  12:34             7.333 radcal.py\n",
        "12.11.2014  16:10             6.253 registerSAR.py\n",
        "12.11.2014  16:10             4.453 registerSAR.pyc\n",
        "11.05.2014  10:50            10.391 wishart_change.py\n",
        "               5 Datei(en),         36.204 Bytes\n",
        "               2 Verzeichnis(se), 261.665.161.216 Bytes frei\n"
       ]
      }
     ],
     "prompt_number": 15
    },
    {
     "cell_type": "code",
     "collapsed": false,
     "input": [
      "run d:/python/CRC/src/chapter9/iMad"
     ],
     "language": "python",
     "metadata": {},
     "outputs": [
      {
       "output_type": "stream",
       "stream": "stdout",
       "text": [
        "=========================\n",
        "       iMAD\n",
        "=========================\n",
        "Mon Feb 16 15:10:06 2015\n",
        "time1: D:/imagery/archive/AppEngine/aster1\n",
        "time2: D:/imagery/archive/AppEngine/aster2\n",
        "Delta    [canonical correlations]\n",
        "0.514713823795"
       ]
      },
      {
       "output_type": "stream",
       "stream": "stdout",
       "text": [
        " [ 0.12746532  0.24682787  0.51471382]\n",
        "0.378505796194"
       ]
      },
      {
       "output_type": "stream",
       "stream": "stdout",
       "text": [
        " [ 0.4345547   0.62533367  0.79706949]\n",
        "0.17537778616"
       ]
      },
      {
       "output_type": "stream",
       "stream": "stdout",
       "text": [
        " [ 0.59446758  0.80071145  0.9204008 ]\n",
        "0.0889850854874"
       ]
      },
      {
       "output_type": "stream",
       "stream": "stdout",
       "text": [
        " [ 0.68345267  0.87077582  0.96596646]\n",
        "0.0528561472893"
       ]
      },
      {
       "output_type": "stream",
       "stream": "stdout",
       "text": [
        " [ 0.73630881  0.90209281  0.97770584]\n",
        "0.0353811383247"
       ]
      },
      {
       "output_type": "stream",
       "stream": "stdout",
       "text": [
        " [ 0.77168995  0.92110842  0.98126417]\n",
        "0.0276111960411"
       ]
      },
      {
       "output_type": "stream",
       "stream": "stdout",
       "text": [
        " [ 0.79930115  0.93479872  0.98357356]\n",
        "0.0217201709747"
       ]
      },
      {
       "output_type": "stream",
       "stream": "stdout",
       "text": [
        " [ 0.82102132  0.94435662  0.98523098]\n",
        "0.0171485543251"
       ]
      },
      {
       "output_type": "stream",
       "stream": "stdout",
       "text": [
        " [ 0.83816987  0.9513635   0.98656648]\n",
        "0.0136776566505"
       ]
      },
      {
       "output_type": "stream",
       "stream": "stdout",
       "text": [
        " [ 0.85184753  0.95675784  0.98784417]\n",
        "0.0110490918159"
       ]
      },
      {
       "output_type": "stream",
       "stream": "stdout",
       "text": [
        " [ 0.86289662  0.96098435  0.98911184]\n",
        "0.0090491771698"
       ]
      },
      {
       "output_type": "stream",
       "stream": "stdout",
       "text": [
        " [ 0.8719458   0.96433586  0.99026054]\n",
        "0.00751632452011"
       ]
      },
      {
       "output_type": "stream",
       "stream": "stdout",
       "text": [
        " [ 0.87946212  0.96702182  0.99118769]\n",
        "0.00632470846176"
       ]
      },
      {
       "output_type": "stream",
       "stream": "stdout",
       "text": [
        " [ 0.88578683  0.96919733  0.99188179]\n",
        "0.00537949800491"
       ]
      },
      {
       "output_type": "stream",
       "stream": "stdout",
       "text": [
        " [ 0.89116633  0.97098005  0.99239147]\n",
        "0.00461399555206"
       ]
      },
      {
       "output_type": "stream",
       "stream": "stdout",
       "text": [
        " [ 0.89578032  0.97245687  0.99277353]\n",
        "0.00397789478302"
       ]
      },
      {
       "output_type": "stream",
       "stream": "stdout",
       "text": [
        " [ 0.89975822  0.97368997  0.99306923]\n",
        "0.0034339427948"
       ]
      },
      {
       "output_type": "stream",
       "stream": "stdout",
       "text": [
        " [ 0.90319216  0.97472388  0.99330407]\n",
        "0.00295954942703"
       ]
      },
      {
       "output_type": "stream",
       "stream": "stdout",
       "text": [
        " [ 0.90615171  0.9755919   0.99349433]\n",
        "0.00254362821579"
       ]
      },
      {
       "output_type": "stream",
       "stream": "stdout",
       "text": [
        " [ 0.90869534  0.9763208   0.99365097]\n",
        "0.00218093395233"
       ]
      },
      {
       "output_type": "stream",
       "stream": "stdout",
       "text": [
        " [ 0.91087627  0.97693312  0.99378157]\n",
        "0.00186723470688"
       ]
      },
      {
       "output_type": "stream",
       "stream": "stdout",
       "text": [
        " [ 0.91274351  0.97744817  0.9938916 ]\n",
        "0.00159764289856"
       ]
      },
      {
       "output_type": "stream",
       "stream": "stdout",
       "text": [
        " [ 0.91434115  0.97788239  0.99398506]\n",
        "0.00136679410934"
       ]
      },
      {
       "output_type": "stream",
       "stream": "stdout",
       "text": [
        " [ 0.91570795  0.97824961  0.99406487]\n",
        "0.00116956233978"
       ]
      },
      {
       "output_type": "stream",
       "stream": "stdout",
       "text": [
        " [ 0.91687751  0.97856116  0.99413335]\n",
        "0.00100129842758"
       ]
      },
      {
       "output_type": "stream",
       "stream": "stdout",
       "text": [
        " [ 0.91787881  0.97882652  0.99419224]\n",
        "0.000857651233673"
       ]
      },
      {
       "output_type": "stream",
       "stream": "stdout",
       "text": [
        " [ 0.91873646  0.97905332  0.99424297]\n",
        "result written to: D:/imagery/archive/AppEngine/ttt.tif"
       ]
      },
      {
       "output_type": "stream",
       "stream": "stdout",
       "text": [
        "\n",
        "--------done---------------------\n"
       ]
      }
     ],
     "prompt_number": 23
    },
    {
     "cell_type": "code",
     "collapsed": false,
     "input": [],
     "language": "python",
     "metadata": {},
     "outputs": []
    }
   ],
   "metadata": {}
  }
 ]
}
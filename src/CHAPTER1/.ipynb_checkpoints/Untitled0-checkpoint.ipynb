{
 "metadata": {
  "name": "",
  "signature": "sha256:b0a97e6424a44c195860d91a95d1a6ffb0800d12b79232b4d4f4eae88037a482"
 },
 "nbformat": 3,
 "nbformat_minor": 0,
 "worksheets": []
}